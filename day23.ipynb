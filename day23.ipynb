{
 "cells": [
  {
   "cell_type": "code",
   "execution_count": 3,
   "metadata": {},
   "outputs": [],
   "source": [
    "from utils import read_lines\n",
    "from collections import defaultdict\n",
    "from queue import SimpleQueue\n",
    "from threading import Thread\n",
    "\n",
    "def parse_input(input_file):\n",
    "    return [line.split(' ') for line in read_lines(input_file)]\n",
    "\n",
    "def get_value(a, reg):\n",
    "    try:\n",
    "        return int(a)\n",
    "    except ValueError:\n",
    "        return reg[a]\n",
    "\n",
    "def part1(input_file):\n",
    "    instructions = parse_input(input_file)\n",
    "    ans = 0\n",
    "    reg = defaultdict(int)\n",
    "    i = 0\n",
    "    while 0 <= i < len(instructions):\n",
    "        ins = instructions[i]\n",
    "        match ins[0]:\n",
    "            \n",
    "            case 'set':\n",
    "                reg[ins[1]] = get_value(ins[2], reg)\n",
    "                i += 1\n",
    "            case 'sub':\n",
    "                reg[ins[1]] -= get_value(ins[2], reg)\n",
    "                i += 1\n",
    "            case 'mul':\n",
    "                reg[ins[1]] *= get_value(ins[2], reg)\n",
    "                i += 1\n",
    "                ans += 1\n",
    "            \n",
    "            case 'jnz':\n",
    "                if get_value(ins[1], reg) != 0:\n",
    "                    i += get_value(ins[2], reg)\n",
    "                else:\n",
    "                    i += 1\n",
    "            case _:\n",
    "                raise ValueError(f'unkonwn instruction {ins}')\n",
    "    return ans\n",
    "\n",
    "def part2(input_file):\n",
    "    instructions = parse_input(input_file)\n",
    "    reg = defaultdict(int)\n",
    "    reg['a'] = 1\n",
    "    i = 0\n",
    "    count = 0\n",
    "    while count < 1000:\n",
    "        ins = instructions[i]\n",
    "        print(i, ins, reg)\n",
    "        count += 1\n",
    "        match ins[0]:\n",
    "            \n",
    "            case 'set':\n",
    "                reg[ins[1]] = get_value(ins[2], reg)\n",
    "                i += 1\n",
    "            case 'sub':\n",
    "                reg[ins[1]] -= get_value(ins[2], reg)\n",
    "                i += 1\n",
    "            case 'mul':\n",
    "                reg[ins[1]] *= get_value(ins[2], reg)\n",
    "                i += 1\n",
    "            \n",
    "            case 'jnz':\n",
    "                if get_value(ins[1], reg) != 0:\n",
    "                    i += get_value(ins[2], reg)\n",
    "                else:\n",
    "                    i += 1\n",
    "            case _:\n",
    "                raise ValueError(f'unkonwn instruction {ins}')\n",
    "        \n",
    "        \n",
    "    return reg['h']\n",
    "            "
   ]
  },
  {
   "cell_type": "code",
   "execution_count": 2,
   "metadata": {},
   "outputs": [
    {
     "data": {
      "text/plain": [
       "4225"
      ]
     },
     "execution_count": 2,
     "metadata": {},
     "output_type": "execute_result"
    }
   ],
   "source": [
    "part1('inputs/day23.txt')"
   ]
  },
  {
   "cell_type": "code",
   "execution_count": null,
   "metadata": {},
   "outputs": [],
   "source": [
    "part2('inputs/day23.txt')"
   ]
  },
  {
   "cell_type": "code",
   "execution_count": 50,
   "metadata": {},
   "outputs": [
    {
     "data": {
      "text/plain": [
       "905"
      ]
     },
     "execution_count": 50,
     "metadata": {},
     "output_type": "execute_result"
    }
   ],
   "source": [
    "import math\n",
    "\n",
    "def is_prime(n):\n",
    "    rt = int(math.sqrt(n))\n",
    "    \n",
    "    for i in range(2, rt+1):\n",
    "        if n % i == 0:\n",
    "            return False\n",
    "    return True\n",
    "\n",
    "def part2_decompiled():\n",
    "    ans = 0\n",
    "    for num in range(106700, 123700 + 1, 17):\n",
    "        if not is_prime(num):\n",
    "            ans += 1\n",
    "    return ans\n",
    "part2_decompiled()"
   ]
  },
  {
   "cell_type": "code",
   "execution_count": null,
   "metadata": {},
   "outputs": [],
   "source": [
    "\n",
    "h = 0\n",
    "b = 106700\n",
    "c = 123700\n",
    "# 9\n",
    "f = 1\n",
    "d = 2\n",
    "\n",
    "#11\n",
    "e = 2\n",
    "#12\n",
    "while True:\n",
    "    if d * e == b:\n",
    "        f = 0\n",
    "    e += 1\n",
    "    if e == b:\n",
    "        break\n",
    "d += 1\n",
    "if d != b:\n",
    "    # jump 11\n",
    "    pass\n",
    "if not f:\n",
    "    h += 1\n",
    "if b == c:\n",
    "    #end\n",
    "    pass\n",
    "b += 17\n",
    "#jump to 9\n"
   ]
  }
 ],
 "metadata": {
  "kernelspec": {
   "display_name": "Test",
   "language": "python",
   "name": "python3"
  },
  "language_info": {
   "codemirror_mode": {
    "name": "ipython",
    "version": 3
   },
   "file_extension": ".py",
   "mimetype": "text/x-python",
   "name": "python",
   "nbconvert_exporter": "python",
   "pygments_lexer": "ipython3",
   "version": "3.12.2"
  }
 },
 "nbformat": 4,
 "nbformat_minor": 2
}
