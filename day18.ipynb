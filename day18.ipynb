{
 "cells": [
  {
   "cell_type": "code",
   "execution_count": 47,
   "metadata": {},
   "outputs": [],
   "source": [
    "from utils import read_lines\n",
    "from collections import defaultdict\n",
    "from queue import SimpleQueue\n",
    "from threading import Thread\n",
    "\n",
    "def parse_input(input_file):\n",
    "    return [line.split(' ') for line in read_lines(input_file)]\n",
    "\n",
    "def get_value(a, reg):\n",
    "    try:\n",
    "        return int(a)\n",
    "    except ValueError:\n",
    "        return reg[a]\n",
    "\n",
    "def part1(input_file):\n",
    "    instructions = parse_input(input_file)\n",
    "    ans = 0\n",
    "    reg = defaultdict(int)\n",
    "    i = 0\n",
    "    while 0 <= i < len(instructions):\n",
    "        ins = instructions[i]\n",
    "        match ins[0]:\n",
    "            case 'snd':\n",
    "                ans = get_value(ins[1], reg)\n",
    "                i += 1\n",
    "            case 'set':\n",
    "                reg[ins[1]] = get_value(ins[2], reg)\n",
    "                i += 1\n",
    "            case 'add':\n",
    "                reg[ins[1]] += get_value(ins[2], reg)\n",
    "                i += 1\n",
    "            case 'mul':\n",
    "                reg[ins[1]] *= get_value(ins[2], reg)\n",
    "                i += 1\n",
    "            case 'mod':\n",
    "                reg[ins[1]] %= get_value(ins[2], reg)\n",
    "                i += 1\n",
    "            case 'rcv':\n",
    "                if get_value(ins[1], reg):\n",
    "                    return ans\n",
    "                i += 1\n",
    "            case 'jgz':\n",
    "                if get_value(ins[1], reg) > 0:\n",
    "                    i += get_value(ins[2], reg)\n",
    "                else:\n",
    "                    i += 1\n",
    "            case _:\n",
    "                raise ValueError(f'unkonwn instruction {ins}')\n",
    "            \n",
    "\n",
    "class Duet:\n",
    "    def __init__(self, instructions):\n",
    "        self.instructions = instructions\n",
    "        self.blocking0 = False\n",
    "        self.blocking1 = False\n",
    "        self.send_count = 0\n",
    "\n",
    "    def start(self):\n",
    "        q0, q1 = SimpleQueue(), SimpleQueue()\n",
    "        t0 = Thread(target=self.run_program, args=(0, q1, q0))\n",
    "        t1 = Thread(target=self.run_program, args=(1, q0, q1))\n",
    "        t0.start()\n",
    "        t1.start()\n",
    "        t0.join()\n",
    "        t1.join()\n",
    "        return self.send_count\n",
    "               \n",
    "    def run_program(self, id, q_snd: SimpleQueue, q_rcv: SimpleQueue):\n",
    "        reg = defaultdict(int)\n",
    "        reg['p'] = id\n",
    "        i = 0\n",
    "        while 0 <= i < len(self.instructions):\n",
    "            ins = self.instructions[i]\n",
    "            match ins[0]:\n",
    "                case 'snd':\n",
    "                    if id == 1:\n",
    "                        self.send_count += 1\n",
    "                        self.blocking0 = False\n",
    "                    else:\n",
    "                        self.blocking1 = False\n",
    "                    q_snd.put(get_value(ins[1], reg))\n",
    "                    i += 1\n",
    "                case 'set':\n",
    "                    reg[ins[1]] = get_value(ins[2], reg)\n",
    "                    i += 1\n",
    "                case 'add':\n",
    "                    reg[ins[1]] += get_value(ins[2], reg)\n",
    "                    i += 1\n",
    "                case 'mul':\n",
    "                    reg[ins[1]] *= get_value(ins[2], reg)\n",
    "                    i += 1\n",
    "                case 'mod':\n",
    "                    reg[ins[1]] %= get_value(ins[2], reg)\n",
    "                    i += 1\n",
    "                case 'rcv':\n",
    "                    if q_rcv.empty():\n",
    "                        if id == 0:\n",
    "                            self.blocking0 = True\n",
    "                        else:\n",
    "                            self.blocking1 = True\n",
    "                        if self.blocking0 and self.blocking1:\n",
    "                            q_snd.put('stop')\n",
    "                            return\n",
    "                    v = q_rcv.get(timeout=1)\n",
    "                    if v == 'stop':\n",
    "                        return\n",
    "                    reg[ins[1]] = v\n",
    "                    i += 1\n",
    "                case 'jgz':\n",
    "                    if get_value(ins[1], reg) > 0:\n",
    "                        i += get_value(ins[2], reg)\n",
    "                    else:\n",
    "                        i += 1\n",
    "                case _:\n",
    "                    raise ValueError(f'unkonwn instruction {ins}')\n",
    "\n",
    "def part2(input_file):\n",
    "    instructions = parse_input(input_file)\n",
    "    duet = Duet(instructions)\n",
    "    return duet.start()"
   ]
  },
  {
   "cell_type": "code",
   "execution_count": 48,
   "metadata": {},
   "outputs": [
    {
     "data": {
      "text/plain": [
       "4"
      ]
     },
     "execution_count": 48,
     "metadata": {},
     "output_type": "execute_result"
    }
   ],
   "source": [
    "part1('inputs/day18_test.txt')"
   ]
  },
  {
   "cell_type": "code",
   "execution_count": 49,
   "metadata": {},
   "outputs": [
    {
     "data": {
      "text/plain": [
       "8600"
      ]
     },
     "execution_count": 49,
     "metadata": {},
     "output_type": "execute_result"
    }
   ],
   "source": [
    "part1('inputs/day18.txt')"
   ]
  },
  {
   "cell_type": "code",
   "execution_count": 50,
   "metadata": {},
   "outputs": [
    {
     "data": {
      "text/plain": [
       "7239"
      ]
     },
     "execution_count": 50,
     "metadata": {},
     "output_type": "execute_result"
    }
   ],
   "source": [
    "part2('inputs/day18.txt')"
   ]
  },
  {
   "cell_type": "code",
   "execution_count": null,
   "metadata": {},
   "outputs": [],
   "source": []
  }
 ],
 "metadata": {
  "kernelspec": {
   "display_name": "Test",
   "language": "python",
   "name": "python3"
  },
  "language_info": {
   "codemirror_mode": {
    "name": "ipython",
    "version": 3
   },
   "file_extension": ".py",
   "mimetype": "text/x-python",
   "name": "python",
   "nbconvert_exporter": "python",
   "pygments_lexer": "ipython3",
   "version": "3.12.2"
  }
 },
 "nbformat": 4,
 "nbformat_minor": 2
}
