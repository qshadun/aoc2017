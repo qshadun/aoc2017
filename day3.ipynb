{
 "cells": [
  {
   "cell_type": "code",
   "execution_count": 30,
   "metadata": {},
   "outputs": [
    {
     "data": {
      "text/plain": [
       "480"
      ]
     },
     "execution_count": 30,
     "metadata": {},
     "output_type": "execute_result"
    }
   ],
   "source": [
    "import math\n",
    "\n",
    "\n",
    "def dist(num):\n",
    "    if num == 1:\n",
    "        return 0\n",
    "    rt = int(math.sqrt(num))\n",
    "    if rt % 2 == 0:\n",
    "        rt -= 1\n",
    "    rt1 = rt + 2\n",
    "\n",
    "    # circle_num_count = rt1 ** 2 - rt ** 2\n",
    "\n",
    "    mid_dist = rt1 // 2\n",
    "\n",
    "    mid_num1 = rt ** 2 + mid_dist\n",
    "    mid_num2 = rt ** 2 + 3 * mid_dist\n",
    "    mid_num3 = rt ** 2 + 5 * mid_dist\n",
    "    mid_num4 = rt ** 2 + 7 * mid_dist\n",
    "    mid_nums = [mid_num1, mid_num2, mid_num3, mid_num4]\n",
    "\n",
    "    mid_delta = [abs(num - mid_num) for mid_num in mid_nums]\n",
    "    return min(mid_delta) + mid_dist\n",
    "\n",
    "dist(347991)\n"
   ]
  },
  {
   "cell_type": "code",
   "execution_count": 14,
   "metadata": {},
   "outputs": [
    {
     "name": "stdout",
     "output_type": "stream",
     "text": [
      "1\n",
      "2\n",
      "4\n",
      "5\n",
      "10\n",
      "11\n",
      "23\n",
      "25\n",
      "26\n",
      "54\n",
      "57\n",
      "59\n",
      "122\n",
      "133\n",
      "142\n",
      "147\n",
      "304\n",
      "330\n",
      "351\n",
      "362\n",
      "747\n",
      "806\n",
      "880\n",
      "931\n",
      "957\n",
      "1968\n",
      "2105\n",
      "2275\n",
      "2391\n",
      "2450\n",
      "5022\n",
      "5336\n",
      "5733\n",
      "6155\n",
      "6444\n",
      "6591\n",
      "13486\n",
      "14267\n",
      "15252\n",
      "16295\n",
      "17008\n",
      "17370\n",
      "35487\n",
      "37402\n",
      "39835\n",
      "42452\n",
      "45220\n",
      "47108\n",
      "48065\n",
      "98098\n",
      "103128\n",
      "109476\n",
      "116247\n",
      "123363\n",
      "128204\n",
      "130654\n",
      "266330\n",
      "279138\n",
      "295229\n",
      "312453\n",
      "330785\n",
      "349975\n"
     ]
    },
    {
     "data": {
      "text/plain": [
       "349975"
      ]
     },
     "execution_count": 14,
     "metadata": {},
     "output_type": "execute_result"
    }
   ],
   "source": [
    "n = 347991\n",
    "\n",
    "deltas = [[x, y] for x in [-1, 0, 1] for y in [-1, 0, 1] if x or y]\n",
    "def add_surround(matrix, i, j):\n",
    "    ans = 0\n",
    "    for di,dj in deltas:\n",
    "        ans += matrix[i+di][j+dj]\n",
    "    return ans\n",
    "\n",
    "def part2():\n",
    "    matrix = [[0] * 100 for _ in range(100)]\n",
    "    matrix[50][50] = 1\n",
    "\n",
    "    rt = 3\n",
    "    cur_i, cur_j = 50, 51\n",
    "    while True:\n",
    "\n",
    "        circular_total = rt**2 - (rt- 2) ** 2\n",
    "        \n",
    "        matrix[cur_i][cur_j] = add_surround(matrix, cur_i, cur_j)\n",
    "        print(matrix[cur_i][cur_j])\n",
    "        if matrix[cur_i][cur_j] > n:\n",
    "            return matrix[cur_i][cur_j]\n",
    "        \n",
    "        for _ in range(circular_total // 4 - 1):\n",
    "            cur_i -= 1\n",
    "            matrix[cur_i][cur_j] = add_surround(matrix, cur_i, cur_j)\n",
    "            print(matrix[cur_i][cur_j])\n",
    "            if matrix[cur_i][cur_j] > n:\n",
    "                return matrix[cur_i][cur_j]\n",
    "        \n",
    "        for _ in range(circular_total // 4):\n",
    "            cur_j -= 1\n",
    "            matrix[cur_i][cur_j] = add_surround(matrix, cur_i, cur_j)\n",
    "            print(matrix[cur_i][cur_j])\n",
    "            if matrix[cur_i][cur_j] > n:\n",
    "                return matrix[cur_i][cur_j]\n",
    "\n",
    "        for _ in range(circular_total // 4):\n",
    "            cur_i += 1\n",
    "            matrix[cur_i][cur_j] = add_surround(matrix, cur_i, cur_j)\n",
    "            print(matrix[cur_i][cur_j])\n",
    "            if matrix[cur_i][cur_j] > n:\n",
    "                return matrix[cur_i][cur_j]\n",
    "        \n",
    "        for _ in range(circular_total // 4):\n",
    "            cur_j += 1\n",
    "            matrix[cur_i][cur_j] = add_surround(matrix, cur_i, cur_j)\n",
    "            print(matrix[cur_i][cur_j])\n",
    "            if matrix[cur_i][cur_j] > n:\n",
    "                return matrix[cur_i][cur_j]\n",
    "\n",
    "        cur_j += 1\n",
    "        rt += 2\n",
    "part2()"
   ]
  },
  {
   "cell_type": "code",
   "execution_count": null,
   "metadata": {},
   "outputs": [],
   "source": []
  }
 ],
 "metadata": {
  "kernelspec": {
   "display_name": "Test",
   "language": "python",
   "name": "python3"
  },
  "language_info": {
   "codemirror_mode": {
    "name": "ipython",
    "version": 3
   },
   "file_extension": ".py",
   "mimetype": "text/x-python",
   "name": "python",
   "nbconvert_exporter": "python",
   "pygments_lexer": "ipython3",
   "version": "3.12.2"
  }
 },
 "nbformat": 4,
 "nbformat_minor": 2
}
