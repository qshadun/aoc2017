{
 "cells": [
  {
   "cell_type": "code",
   "execution_count": 5,
   "metadata": {},
   "outputs": [],
   "source": [
    "from utils import read_lines\n",
    "\n",
    "def parse_input(input_file):\n",
    "    return [int(line) for line in read_lines(input_file)]\n",
    "\n",
    "def part1(input_file):\n",
    "    offsets = parse_input(input_file)\n",
    "    n = len(offsets)\n",
    "    pos = 0\n",
    "    step = 0\n",
    "    while True:\n",
    "        if pos < 0 or pos >= n:\n",
    "            return step\n",
    "        new_pos = pos + offsets[pos]\n",
    "        offsets[pos] += 1\n",
    "        pos = new_pos\n",
    "        step += 1\n",
    "\n",
    "def part2(input_file):\n",
    "    offsets = parse_input(input_file)\n",
    "    n = len(offsets)\n",
    "    pos = 0\n",
    "    step = 0\n",
    "    while True:\n",
    "        if pos < 0 or pos >= n:\n",
    "            return step\n",
    "        new_pos = pos + offsets[pos]\n",
    "        if offsets[pos] >= 3:\n",
    "            offsets[pos] -= 1\n",
    "        else:\n",
    "            offsets[pos] += 1\n",
    "        pos = new_pos\n",
    "        step += 1"
   ]
  },
  {
   "cell_type": "code",
   "execution_count": 3,
   "metadata": {},
   "outputs": [
    {
     "data": {
      "text/plain": [
       "373543"
      ]
     },
     "execution_count": 3,
     "metadata": {},
     "output_type": "execute_result"
    }
   ],
   "source": [
    "assert part1('inputs/day5_test.txt') == 5\n",
    "part1('inputs/day5.txt')"
   ]
  },
  {
   "cell_type": "code",
   "execution_count": 6,
   "metadata": {},
   "outputs": [
    {
     "data": {
      "text/plain": [
       "27502966"
      ]
     },
     "execution_count": 6,
     "metadata": {},
     "output_type": "execute_result"
    }
   ],
   "source": [
    "assert part2('inputs/day5_test.txt') == 10\n",
    "part2('inputs/day5.txt')"
   ]
  },
  {
   "cell_type": "code",
   "execution_count": null,
   "metadata": {},
   "outputs": [],
   "source": []
  }
 ],
 "metadata": {
  "kernelspec": {
   "display_name": "Test",
   "language": "python",
   "name": "python3"
  },
  "language_info": {
   "codemirror_mode": {
    "name": "ipython",
    "version": 3
   },
   "file_extension": ".py",
   "mimetype": "text/x-python",
   "name": "python",
   "nbconvert_exporter": "python",
   "pygments_lexer": "ipython3",
   "version": "3.12.2"
  }
 },
 "nbformat": 4,
 "nbformat_minor": 2
}
