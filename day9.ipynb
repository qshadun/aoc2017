{
 "cells": [
  {
   "cell_type": "code",
   "execution_count": 13,
   "metadata": {},
   "outputs": [],
   "source": [
    "from utils import read_lines\n",
    "\n",
    "def calc_score(s):\n",
    "    ans = 0\n",
    "    in_garbage = False\n",
    "    score = 0\n",
    "    i = 0\n",
    "    while i < len(s):\n",
    "        if in_garbage:\n",
    "            match s[i]:\n",
    "                case '>':\n",
    "                    in_garbage = False\n",
    "                    i += 1\n",
    "                case '!':\n",
    "                    i += 2\n",
    "                case _:\n",
    "                    i += 1\n",
    "        else:\n",
    "            match s[i]:\n",
    "                case '{':\n",
    "                    score += 1\n",
    "                    i += 1\n",
    "                case '}':\n",
    "                    ans += score\n",
    "                    score -= 1\n",
    "                    i += 1\n",
    "                case '<':\n",
    "                    in_garbage = True\n",
    "                    i += 1\n",
    "                case '!':\n",
    "                    i += 2\n",
    "                case _:\n",
    "                    i += 1\n",
    "    return ans\n",
    "\n",
    "def count_garbage(s):\n",
    "    ans = 0\n",
    "    g_start = None\n",
    "    cancel_count = 0\n",
    "    \n",
    "    i = 0\n",
    "    while i < len(s):\n",
    "        if g_start is not None:\n",
    "            match s[i]:\n",
    "                case '>':\n",
    "                    ans += i - g_start - 1 - 2*cancel_count\n",
    "                    g_start = None\n",
    "                    cancel_count = 0\n",
    "                    i += 1\n",
    "                case '!':\n",
    "                    cancel_count += 1\n",
    "                    i += 2\n",
    "                case _:\n",
    "                    i += 1\n",
    "        else:\n",
    "            match s[i]:\n",
    "                case '<':\n",
    "                    g_start = i\n",
    "                    i += 1\n",
    "                case '!':\n",
    "                    i += 2\n",
    "                case _:\n",
    "                    i += 1\n",
    "    return ans\n",
    "\n",
    "def part1(input_file):\n",
    "    return calc_score(read_lines(input_file)[0])\n",
    "    \n",
    "def part2(input_file):\n",
    "    return count_garbage(read_lines(input_file)[0])"
   ]
  },
  {
   "cell_type": "code",
   "execution_count": 11,
   "metadata": {},
   "outputs": [
    {
     "data": {
      "text/plain": [
       "8337"
      ]
     },
     "execution_count": 11,
     "metadata": {},
     "output_type": "execute_result"
    }
   ],
   "source": [
    "part1('inputs/day9.txt')"
   ]
  },
  {
   "cell_type": "code",
   "execution_count": 17,
   "metadata": {},
   "outputs": [
    {
     "data": {
      "text/plain": [
       "4330"
      ]
     },
     "execution_count": 17,
     "metadata": {},
     "output_type": "execute_result"
    }
   ],
   "source": [
    "part2('inputs/day9.txt')"
   ]
  },
  {
   "cell_type": "code",
   "execution_count": 9,
   "metadata": {},
   "outputs": [],
   "source": [
    "assert calc_score('{{<ab>},{<ab>},{<ab>},{<ab>}}') == 9\n",
    "assert calc_score('{{<!!>},{<!!>},{<!!>},{<!!>}}') == 9\n",
    "assert calc_score('{{<a!>},{<a!>},{<a!>},{<ab>}}') == 3\n",
    "assert calc_score('{<a>,<a>,<a>,<a>}') == 1\n",
    "assert calc_score('{{{},{},{{}}}}') == 16"
   ]
  },
  {
   "cell_type": "code",
   "execution_count": 16,
   "metadata": {},
   "outputs": [],
   "source": [
    "assert count_garbage('<>') == 0\n",
    "assert count_garbage('<random characters>') == 17\n",
    "assert count_garbage('<<<<>') == 3\n",
    "assert count_garbage('<{!>}>') == 2\n",
    "assert count_garbage('<!!>') == 0\n",
    "assert count_garbage('<!!!>>') == 0\n",
    "assert count_garbage('<{o\"i!a,<{i<a>') == 10"
   ]
  },
  {
   "cell_type": "code",
   "execution_count": null,
   "metadata": {},
   "outputs": [],
   "source": []
  }
 ],
 "metadata": {
  "kernelspec": {
   "display_name": "Python 3",
   "language": "python",
   "name": "python3"
  },
  "language_info": {
   "codemirror_mode": {
    "name": "ipython",
    "version": 3
   },
   "file_extension": ".py",
   "mimetype": "text/x-python",
   "name": "python",
   "nbconvert_exporter": "python",
   "pygments_lexer": "ipython3",
   "version": "3.12.2"
  }
 },
 "nbformat": 4,
 "nbformat_minor": 2
}
