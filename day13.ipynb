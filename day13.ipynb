{
 "cells": [
  {
   "cell_type": "code",
   "execution_count": 7,
   "metadata": {},
   "outputs": [],
   "source": [
    "from utils import read_lines\n",
    "\n",
    "def parse_input(input_file):\n",
    "    ans = {}\n",
    "    for line in read_lines(input_file):\n",
    "        a, b = line.split(': ')\n",
    "        ans[int(a)] = int(b)\n",
    "    return ans\n",
    "\n",
    "def part1(input_file):\n",
    "    scanners = parse_input(input_file)\n",
    "    ans = 0\n",
    "    for i, len in scanners.items():\n",
    "        period = 2 * len - 2\n",
    "        pos = i % period\n",
    "        if pos > len - 1:\n",
    "            pos = len - 1 - (pos - (len - 1))\n",
    "        if pos == 0:\n",
    "            ans += i * len\n",
    "    return ans\n",
    "\n",
    "def part2(input_file):\n",
    "    scanners = parse_input(input_file)\n",
    "    ans = 0\n",
    "    while True:\n",
    "        caught = False\n",
    "        for i, len in scanners.items():\n",
    "            period = 2 * len - 2\n",
    "            pos = (i + ans) % period\n",
    "            if pos > len - 1:\n",
    "                pos = len - 1 - (pos - (len - 1))\n",
    "            if pos == 0:\n",
    "                caught = True\n",
    "                break\n",
    "        if caught:\n",
    "            ans += 1\n",
    "        else:\n",
    "            return ans"
   ]
  },
  {
   "cell_type": "code",
   "execution_count": 5,
   "metadata": {},
   "outputs": [
    {
     "data": {
      "text/plain": [
       "24"
      ]
     },
     "execution_count": 5,
     "metadata": {},
     "output_type": "execute_result"
    }
   ],
   "source": [
    "part1('inputs/day13_test.txt')"
   ]
  },
  {
   "cell_type": "code",
   "execution_count": 6,
   "metadata": {},
   "outputs": [
    {
     "data": {
      "text/plain": [
       "1728"
      ]
     },
     "execution_count": 6,
     "metadata": {},
     "output_type": "execute_result"
    }
   ],
   "source": [
    "part1('inputs/day13.txt')"
   ]
  },
  {
   "cell_type": "code",
   "execution_count": 8,
   "metadata": {},
   "outputs": [
    {
     "data": {
      "text/plain": [
       "10"
      ]
     },
     "execution_count": 8,
     "metadata": {},
     "output_type": "execute_result"
    }
   ],
   "source": [
    "part2('inputs/day13_test.txt')"
   ]
  },
  {
   "cell_type": "code",
   "execution_count": 9,
   "metadata": {},
   "outputs": [
    {
     "data": {
      "text/plain": [
       "3946838"
      ]
     },
     "execution_count": 9,
     "metadata": {},
     "output_type": "execute_result"
    }
   ],
   "source": [
    "part2('inputs/day13.txt')"
   ]
  },
  {
   "cell_type": "code",
   "execution_count": null,
   "metadata": {},
   "outputs": [],
   "source": []
  }
 ],
 "metadata": {
  "kernelspec": {
   "display_name": "Test",
   "language": "python",
   "name": "python3"
  },
  "language_info": {
   "codemirror_mode": {
    "name": "ipython",
    "version": 3
   },
   "file_extension": ".py",
   "mimetype": "text/x-python",
   "name": "python",
   "nbconvert_exporter": "python",
   "pygments_lexer": "ipython3",
   "version": "3.12.2"
  }
 },
 "nbformat": 4,
 "nbformat_minor": 2
}
