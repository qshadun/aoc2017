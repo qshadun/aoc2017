{
 "cells": [
  {
   "cell_type": "code",
   "execution_count": 15,
   "metadata": {},
   "outputs": [],
   "source": [
    "from utils import read_lines\n",
    "\n",
    "def print_matrix(matrix):\n",
    "    for row in matrix:\n",
    "        print(''.join(row))\n",
    "    \n",
    "def parse_input(input_file):\n",
    "    lines = read_lines(input_file)\n",
    "    matrix = []\n",
    "    n = len(lines[0])\n",
    "    for line in lines:\n",
    "        row = [c for c in line]\n",
    "        if len(row) < n:\n",
    "            row = row + [' '] * (n - len(row))\n",
    "        matrix.append(row)\n",
    "    return matrix\n",
    "\n",
    "def part1(input_file):\n",
    "    matrix = parse_input(input_file)\n",
    "    cur_i, cur_j = 0, 0\n",
    "    di, dj = 1, 0\n",
    "    m, n = len(matrix), len(matrix[0])\n",
    "    for j in range(n):\n",
    "        if matrix[0][j] == '|':\n",
    "            cur_j = j\n",
    "            break\n",
    "    visited = []\n",
    "    steps = 1\n",
    "    while True:\n",
    "        cur_i, cur_j = cur_i + di, cur_j + dj\n",
    "        if not (0 <= cur_i < m and 0 <= cur_j < n and matrix[cur_i][cur_j] != ' '):\n",
    "            break\n",
    "        steps += 1\n",
    "        match matrix[cur_i][cur_j]:\n",
    "            case x if 'A' <= x <= 'Z':\n",
    "                if x not in visited:\n",
    "                    visited.append(x)\n",
    "            case '+':\n",
    "                ndi, ndj = dj, di\n",
    "                ni, nj = cur_i + ndi, cur_j + ndj\n",
    "                if 0 <= ni < m and 0 <= nj < n and matrix[ni][nj] != ' ':\n",
    "                    di, dj = ndi, ndj\n",
    "                else:\n",
    "                    di, dj = -ndi, -ndj\n",
    "            case _:\n",
    "                continue\n",
    "    return ''.join(visited), steps"
   ]
  },
  {
   "cell_type": "code",
   "execution_count": 16,
   "metadata": {},
   "outputs": [
    {
     "data": {
      "text/plain": [
       "('ABCDEF', 38)"
      ]
     },
     "execution_count": 16,
     "metadata": {},
     "output_type": "execute_result"
    }
   ],
   "source": [
    "part1('inputs/day19_test.txt')"
   ]
  },
  {
   "cell_type": "code",
   "execution_count": 17,
   "metadata": {},
   "outputs": [
    {
     "data": {
      "text/plain": [
       "('ITSZCJNMUO', 17420)"
      ]
     },
     "execution_count": 17,
     "metadata": {},
     "output_type": "execute_result"
    }
   ],
   "source": [
    "part1('inputs/day19.txt')"
   ]
  },
  {
   "cell_type": "code",
   "execution_count": null,
   "metadata": {},
   "outputs": [],
   "source": []
  }
 ],
 "metadata": {
  "kernelspec": {
   "display_name": "Test",
   "language": "python",
   "name": "python3"
  },
  "language_info": {
   "codemirror_mode": {
    "name": "ipython",
    "version": 3
   },
   "file_extension": ".py",
   "mimetype": "text/x-python",
   "name": "python",
   "nbconvert_exporter": "python",
   "pygments_lexer": "ipython3",
   "version": "3.12.2"
  }
 },
 "nbformat": 4,
 "nbformat_minor": 2
}
