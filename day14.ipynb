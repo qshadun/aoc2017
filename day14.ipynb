{
 "cells": [
  {
   "cell_type": "code",
   "execution_count": 12,
   "metadata": {},
   "outputs": [],
   "source": [
    "from collections import Counter, deque\n",
    "\n",
    "test_input = 'flqrgnkx'\n",
    "input = 'ljoxqyyw'\n",
    "\n",
    "def rotate2(ss, n=256):\n",
    "    lens = [ord(c) for c in ss] + [17, 31, 73, 47, 23]\n",
    "    s = list(range(n))\n",
    "    cur_pos = 0\n",
    "    skip_size = 0\n",
    "    for _ in range(64):\n",
    "        for length in lens:\n",
    "            lo, hi = cur_pos, cur_pos + length - 1\n",
    "            while lo < hi:\n",
    "                s[lo % n], s[hi % n] = s[hi % n], s[lo % n]\n",
    "                lo += 1\n",
    "                hi -= 1\n",
    "            cur_pos = (cur_pos + length + skip_size) % n\n",
    "            skip_size += 1\n",
    "    return s\n",
    "\n",
    "def to_hex(num):\n",
    "    ans = hex(num)[2:]\n",
    "    if len(ans) == 1:\n",
    "        return '0' + ans\n",
    "    else:\n",
    "        return ans\n",
    "    \n",
    "def dense(s):\n",
    "    nums = []\n",
    "    for i in range(0, 256, 16):\n",
    "        num = s[i]\n",
    "        for j in range(1, 16):\n",
    "            num ^= s[i + j]\n",
    "        nums.append(num)\n",
    "    hexes = [to_hex(num) for num in nums]\n",
    "    return ''.join(hexes)\n",
    "\n",
    "def knot_hash(ss):\n",
    "    return dense(rotate2(ss))\n",
    "\n",
    "def part1(inp):\n",
    "    ans = 0\n",
    "    for i in range(128):\n",
    "        s = f'{inp}-{i}'\n",
    "        kh = knot_hash(s)\n",
    "        b = int(kh, 16)\n",
    "        ans += Counter(bin(b)[2:])['1']\n",
    "    return ans\n",
    "\n",
    "deltas = [[-1, 0], [1, 0], [0, -1], [0, 1]]\n",
    "\n",
    "def part2(inp):\n",
    "    matrix = []\n",
    "    for i in range(128):\n",
    "        s = f'{inp}-{i}'\n",
    "        kh = knot_hash(s)\n",
    "        b = bin(int(kh, 16))[2:]\n",
    "        row = [int(c) for c in b]\n",
    "        row = [0] * (128 - len(b)) + row\n",
    "        matrix.append(row)\n",
    "    \n",
    "    ans = 0\n",
    "    for i in range(128):\n",
    "        for j in range(128):\n",
    "            if matrix[i][j] == 1:\n",
    "                ans += 1\n",
    "                q = deque([(i, j)])\n",
    "                matrix[i][j] = 0\n",
    "                while q:\n",
    "                    x, y = q.popleft()\n",
    "                    for dx, dy in deltas:\n",
    "                        nx, ny = x + dx, y + dy\n",
    "                        if 0 <= nx < 128 and 0 <= ny < 128 and matrix[nx][ny]:\n",
    "                            matrix[nx][ny] = 0\n",
    "                            q.append([nx, ny])\n",
    "    return ans"
   ]
  },
  {
   "cell_type": "code",
   "execution_count": 4,
   "metadata": {},
   "outputs": [
    {
     "data": {
      "text/plain": [
       "8108"
      ]
     },
     "execution_count": 4,
     "metadata": {},
     "output_type": "execute_result"
    }
   ],
   "source": [
    "part1(test_input)"
   ]
  },
  {
   "cell_type": "code",
   "execution_count": 5,
   "metadata": {},
   "outputs": [
    {
     "data": {
      "text/plain": [
       "8316"
      ]
     },
     "execution_count": 5,
     "metadata": {},
     "output_type": "execute_result"
    }
   ],
   "source": [
    "part1(input)"
   ]
  },
  {
   "cell_type": "code",
   "execution_count": 13,
   "metadata": {},
   "outputs": [
    {
     "data": {
      "text/plain": [
       "1242"
      ]
     },
     "execution_count": 13,
     "metadata": {},
     "output_type": "execute_result"
    }
   ],
   "source": [
    "part2(test_input)"
   ]
  },
  {
   "cell_type": "code",
   "execution_count": 14,
   "metadata": {},
   "outputs": [
    {
     "data": {
      "text/plain": [
       "1074"
      ]
     },
     "execution_count": 14,
     "metadata": {},
     "output_type": "execute_result"
    }
   ],
   "source": [
    "part2(input)"
   ]
  },
  {
   "cell_type": "code",
   "execution_count": null,
   "metadata": {},
   "outputs": [],
   "source": []
  }
 ],
 "metadata": {
  "kernelspec": {
   "display_name": "Test",
   "language": "python",
   "name": "python3"
  },
  "language_info": {
   "codemirror_mode": {
    "name": "ipython",
    "version": 3
   },
   "file_extension": ".py",
   "mimetype": "text/x-python",
   "name": "python",
   "nbconvert_exporter": "python",
   "pygments_lexer": "ipython3",
   "version": "3.12.2"
  }
 },
 "nbformat": 4,
 "nbformat_minor": 2
}
