{
 "cells": [
  {
   "cell_type": "code",
   "execution_count": 21,
   "metadata": {},
   "outputs": [],
   "source": [
    "from utils import read_lines\n",
    "\n",
    "def perform(programs, dance):\n",
    "    n = len(programs)\n",
    "    match dance[0]:\n",
    "        case 's':\n",
    "            num = int(dance[1:])\n",
    "            programs = programs[n-num:] + programs[:n-num]\n",
    "        case 'x':\n",
    "            n1, n2 = dance[1:].split('/')\n",
    "            n1, n2 = int(n1), int(n2)\n",
    "            programs[n1], programs[n2] = programs[n2], programs[n1]\n",
    "        case 'p':\n",
    "            n1, n2 = dance[1:].split('/')\n",
    "            i1, i2 = programs.index(n1), programs.index(n2)\n",
    "            programs[i1], programs[i2] = programs[i2], programs[i1]\n",
    "        case _:\n",
    "            raise ValueError(f'unknownn dance {dance}')\n",
    "    return programs\n",
    "\n",
    "def part1(input_file):\n",
    "    dances = read_lines(input_file)[0].split(',')\n",
    "    programs = [chr(ord('a') + i) for i in range(16)]\n",
    "    for dance in dances:\n",
    "        programs = perform(programs, dance)\n",
    "    return ''.join(programs)\n",
    "\n",
    "def part2(input_file):\n",
    "    dances = read_lines(input_file)[0].split(',')\n",
    "    programs = [chr(ord('a') + i) for i in range(16)]\n",
    "    seen = {\n",
    "        ''.join(programs): 0\n",
    "    }\n",
    "    for i in range(1000):\n",
    "        for dance in dances:\n",
    "            programs = perform(programs, dance)\n",
    "        k = ''.join(programs)\n",
    "        if k in seen:\n",
    "            break\n",
    "        else:\n",
    "            seen[k] = i + 1\n",
    "    i = 1_000_000_000 % len(seen)\n",
    "    for k, v in seen.items():\n",
    "        if i == v:\n",
    "            return k\n",
    "\n"
   ]
  },
  {
   "cell_type": "code",
   "execution_count": 14,
   "metadata": {},
   "outputs": [
    {
     "data": {
      "text/plain": [
       "'doeaimlbnpjchfkg'"
      ]
     },
     "execution_count": 14,
     "metadata": {},
     "output_type": "execute_result"
    }
   ],
   "source": [
    "part1('inputs/day16.txt')"
   ]
  },
  {
   "cell_type": "code",
   "execution_count": 22,
   "metadata": {},
   "outputs": [
    {
     "data": {
      "text/plain": [
       "'agndefjhibklmocp'"
      ]
     },
     "execution_count": 22,
     "metadata": {},
     "output_type": "execute_result"
    }
   ],
   "source": [
    "part2('inputs/day16.txt')"
   ]
  },
  {
   "cell_type": "code",
   "execution_count": null,
   "metadata": {},
   "outputs": [],
   "source": []
  }
 ],
 "metadata": {
  "kernelspec": {
   "display_name": "Test",
   "language": "python",
   "name": "python3"
  },
  "language_info": {
   "codemirror_mode": {
    "name": "ipython",
    "version": 3
   },
   "file_extension": ".py",
   "mimetype": "text/x-python",
   "name": "python",
   "nbconvert_exporter": "python",
   "pygments_lexer": "ipython3",
   "version": "3.12.2"
  }
 },
 "nbformat": 4,
 "nbformat_minor": 2
}
