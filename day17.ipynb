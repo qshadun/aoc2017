{
 "cells": [
  {
   "cell_type": "code",
   "execution_count": 9,
   "metadata": {},
   "outputs": [],
   "source": [
    "test_input = 3\n",
    "input = 359\n",
    "\n",
    "def spin(steps):\n",
    "    ans = [0]\n",
    "    pos = 0\n",
    "    for i in range(1, 2018):\n",
    "        pos = (pos + steps) % len(ans)\n",
    "        ans.append(0)\n",
    "        ans[pos+2:] = ans[pos+1:-1]\n",
    "        pos += 1\n",
    "        ans[pos] = i\n",
    "    return ans, pos\n",
    "\n",
    "def part1(steps):\n",
    "    ls, pos = spin(steps)\n",
    "    return ls[(pos+1)%2018]"
   ]
  },
  {
   "cell_type": "code",
   "execution_count": 10,
   "metadata": {},
   "outputs": [
    {
     "data": {
      "text/plain": [
       "638"
      ]
     },
     "execution_count": 10,
     "metadata": {},
     "output_type": "execute_result"
    }
   ],
   "source": [
    "part1(test_input)"
   ]
  },
  {
   "cell_type": "code",
   "execution_count": 11,
   "metadata": {},
   "outputs": [
    {
     "data": {
      "text/plain": [
       "1506"
      ]
     },
     "execution_count": 11,
     "metadata": {},
     "output_type": "execute_result"
    }
   ],
   "source": [
    "part1(input)"
   ]
  },
  {
   "cell_type": "code",
   "execution_count": 18,
   "metadata": {},
   "outputs": [],
   "source": [
    "class Node:\n",
    "    def __init__(self, val, next=None):\n",
    "        self.val = val\n",
    "        self.next = next\n",
    "\n",
    "def part2(steps):\n",
    "    node=Node(0)\n",
    "    node.next = node\n",
    "    node0 = node\n",
    "    for i in range(50_000_000):\n",
    "        for _ in range(steps):\n",
    "            node = node.next\n",
    "        \n",
    "        new_node = Node(i + 1, node.next)\n",
    "        node.next = new_node\n",
    "        node = new_node\n",
    "    return node0.next.val, node.next.val"
   ]
  },
  {
   "cell_type": "code",
   "execution_count": 19,
   "metadata": {},
   "outputs": [
    {
     "data": {
      "text/plain": [
       "(39479736, 2472097)"
      ]
     },
     "execution_count": 19,
     "metadata": {},
     "output_type": "execute_result"
    }
   ],
   "source": [
    "part2(input)"
   ]
  },
  {
   "cell_type": "code",
   "execution_count": null,
   "metadata": {},
   "outputs": [],
   "source": []
  }
 ],
 "metadata": {
  "kernelspec": {
   "display_name": "Test",
   "language": "python",
   "name": "python3"
  },
  "language_info": {
   "codemirror_mode": {
    "name": "ipython",
    "version": 3
   },
   "file_extension": ".py",
   "mimetype": "text/x-python",
   "name": "python",
   "nbconvert_exporter": "python",
   "pygments_lexer": "ipython3",
   "version": "3.12.2"
  }
 },
 "nbformat": 4,
 "nbformat_minor": 2
}
