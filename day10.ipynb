{
 "cells": [
  {
   "cell_type": "code",
   "execution_count": 45,
   "metadata": {},
   "outputs": [],
   "source": [
    "from utils import read_lines\n",
    "\n",
    "def rotate(lens, n=256):\n",
    "    s = list(range(n))\n",
    "    cur_pos = 0\n",
    "    skip_size = 0\n",
    "    for length in lens:\n",
    "        lo, hi = cur_pos, cur_pos + length - 1\n",
    "        while lo < hi:\n",
    "            s[lo % n], s[hi % n] = s[hi % n], s[lo % n]\n",
    "            lo += 1\n",
    "            hi -= 1\n",
    "        cur_pos = (cur_pos + length + skip_size) % n\n",
    "        skip_size += 1\n",
    "    return s\n",
    "\n",
    "def rotate2(ss, n=256):\n",
    "    lens = [ord(c) for c in ss] + [17, 31, 73, 47, 23]\n",
    "    s = list(range(n))\n",
    "    cur_pos = 0\n",
    "    skip_size = 0\n",
    "    for _ in range(64):\n",
    "        for length in lens:\n",
    "            lo, hi = cur_pos, cur_pos + length - 1\n",
    "            while lo < hi:\n",
    "                s[lo % n], s[hi % n] = s[hi % n], s[lo % n]\n",
    "                lo += 1\n",
    "                hi -= 1\n",
    "            cur_pos = (cur_pos + length + skip_size) % n\n",
    "            skip_size += 1\n",
    "    return s\n",
    "\n",
    "def to_hex(num):\n",
    "    ans = hex(num)[2:]\n",
    "    if len(ans) == 1:\n",
    "        return '0' + ans\n",
    "    else:\n",
    "        return ans\n",
    "    \n",
    "def dense(s):\n",
    "    nums = []\n",
    "    for i in range(0, 256, 16):\n",
    "        num = s[i]\n",
    "        for j in range(1, 16):\n",
    "            num ^= s[i + j]\n",
    "        nums.append(num)\n",
    "    hexes = [to_hex(num) for num in nums]\n",
    "    return ''.join(hexes)\n",
    "\n",
    "def part1(input_file):\n",
    "    lens = [int(x) for x in read_lines(input_file)[0].split(',')]\n",
    "    s = rotate(lens)\n",
    "    return s[0] * s[1]\n",
    "\n",
    "def part2(input_file):\n",
    "    s = rotate2(read_lines(input_file)[0])\n",
    "    return dense(s)"
   ]
  },
  {
   "cell_type": "code",
   "execution_count": 16,
   "metadata": {},
   "outputs": [
    {
     "data": {
      "text/plain": [
       "38415"
      ]
     },
     "execution_count": 16,
     "metadata": {},
     "output_type": "execute_result"
    }
   ],
   "source": [
    "part1('inputs/day10.txt')"
   ]
  },
  {
   "cell_type": "code",
   "execution_count": 46,
   "metadata": {},
   "outputs": [
    {
     "data": {
      "text/plain": [
       "'9de8846431eef262be78f590e39a4848'"
      ]
     },
     "execution_count": 46,
     "metadata": {},
     "output_type": "execute_result"
    }
   ],
   "source": [
    "part2('inputs/day10.txt')"
   ]
  },
  {
   "cell_type": "code",
   "execution_count": 43,
   "metadata": {},
   "outputs": [],
   "source": [
    "assert dense(rotate2('AoC 2017')) == '33efeb34ea91902bb2f59c9920caa6cd'\n",
    "assert dense(rotate2('')) == 'a2582a3a0e66e6e86e3812dcb672a272'"
   ]
  },
  {
   "cell_type": "code",
   "execution_count": null,
   "metadata": {},
   "outputs": [],
   "source": []
  }
 ],
 "metadata": {
  "kernelspec": {
   "display_name": "Test",
   "language": "python",
   "name": "python3"
  },
  "language_info": {
   "codemirror_mode": {
    "name": "ipython",
    "version": 3
   },
   "file_extension": ".py",
   "mimetype": "text/x-python",
   "name": "python",
   "nbconvert_exporter": "python",
   "pygments_lexer": "ipython3",
   "version": "3.12.2"
  }
 },
 "nbformat": 4,
 "nbformat_minor": 2
}
