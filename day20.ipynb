{
 "cells": [
  {
   "cell_type": "code",
   "execution_count": 16,
   "metadata": {},
   "outputs": [],
   "source": [
    "from utils import read_lines\n",
    "import re\n",
    "import numpy as np\n",
    "from collections import defaultdict\n",
    "\n",
    "regex = re.compile(r'p=<([+-]?\\d+),([+-]?\\d+),([+-]?\\d+)>, v=<([+-]?\\d+),([+-]?\\d+),([+-]?\\d+)>, a=<([+-]?\\d+),([+-]?\\d+),([+-]?\\d+)>')\n",
    "\n",
    "def parse_line(line):\n",
    "    \"\"\"p=<-1027,-979,-188>, v=<7,60,66>, a=<9,1,-7>\"\"\"\n",
    "    m = re.match(regex, line)\n",
    "    return [int(m.group(i)) for i in range(1, 10)]\n",
    "\n",
    "def part1(input_file):\n",
    "    particles = [parse_line(line) for line in read_lines(input_file)]\n",
    "    accs = [abs(p[6]) + abs(p[7]) + abs(p[8]) for p in particles]\n",
    "    return np.argmin(accs)\n",
    "\n",
    "def move_particle(p):\n",
    "    x, y, z, vx, vy, vz, ax, ay, az = p\n",
    "    vx += ax\n",
    "    vy += ay\n",
    "    vz += az\n",
    "    x += vx\n",
    "    y += vy\n",
    "    z += vz\n",
    "    return [x, y, z, vx, vy, vz, ax, ay, az]\n",
    "\n",
    "def part2(input_file):\n",
    "    particles = [parse_line(line) for line in read_lines(input_file)]\n",
    "    particles = {\n",
    "        (p[0], p[1], p[2]): [p] for p in particles\n",
    "    }\n",
    "    for _ in range(100000):\n",
    "        particles = {\n",
    "            pos: ps for pos, ps in particles.items() if len(ps) == 1\n",
    "        }\n",
    "        new_particles = defaultdict(list)\n",
    "        for _, ps in particles.items():\n",
    "            p = move_particle(ps[0])\n",
    "            new_particles[(p[0], p[1], p[2])].append(p)\n",
    "        particles = new_particles\n",
    "    return len(particles)"
   ]
  },
  {
   "cell_type": "code",
   "execution_count": 13,
   "metadata": {},
   "outputs": [
    {
     "data": {
      "text/plain": [
       "119"
      ]
     },
     "execution_count": 13,
     "metadata": {},
     "output_type": "execute_result"
    }
   ],
   "source": [
    "part1('inputs/day20.txt')"
   ]
  },
  {
   "cell_type": "code",
   "execution_count": 17,
   "metadata": {},
   "outputs": [
    {
     "data": {
      "text/plain": [
       "471"
      ]
     },
     "execution_count": 17,
     "metadata": {},
     "output_type": "execute_result"
    }
   ],
   "source": [
    "part2('inputs/day20.txt')"
   ]
  },
  {
   "cell_type": "code",
   "execution_count": null,
   "metadata": {},
   "outputs": [],
   "source": []
  }
 ],
 "metadata": {
  "kernelspec": {
   "display_name": "Test",
   "language": "python",
   "name": "python3"
  },
  "language_info": {
   "codemirror_mode": {
    "name": "ipython",
    "version": 3
   },
   "file_extension": ".py",
   "mimetype": "text/x-python",
   "name": "python",
   "nbconvert_exporter": "python",
   "pygments_lexer": "ipython3",
   "version": "3.12.2"
  }
 },
 "nbformat": 4,
 "nbformat_minor": 2
}
