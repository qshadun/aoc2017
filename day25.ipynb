{
 "cells": [
  {
   "cell_type": "code",
   "execution_count": 11,
   "metadata": {},
   "outputs": [],
   "source": [
    "from utils import read_lines\n",
    "from collections import defaultdict, Counter\n",
    "\n",
    "def parse_branch(lines, i):\n",
    "    v = int(lines[i].split(' ')[-1][0])\n",
    "    d = lines[i+1].split(' ')[-1][:-1]\n",
    "    if d == 'left':\n",
    "        d = -1\n",
    "    else:\n",
    "        d = 1\n",
    "    s = lines[i+2].split(' ')[-1][0]\n",
    "    return (v, d, s)\n",
    "    \n",
    "def parse_input(input_file):\n",
    "    lines = read_lines(input_file)\n",
    "    initial_state = lines[0].split(' ')[-1][0]\n",
    "    steps = int(lines[1].split(' ')[-2])\n",
    "    states = {}\n",
    "    for i in range(3, len(lines), 10):\n",
    "        name = lines[i].split(' ')[-1][0]\n",
    "        \n",
    "        states[name] = [parse_branch(lines, i+2), parse_branch(lines, i+6)]\n",
    "    return initial_state, steps, states\n",
    "\n",
    "def part1(input_file):\n",
    "    cur_state, steps, states = parse_input(input_file)\n",
    "    cur_pos = 0\n",
    "    tape = defaultdict(int)\n",
    "    for _ in range(steps):\n",
    "        v, d, s = states[cur_state][tape[cur_pos]]\n",
    "        tape[cur_pos] = v\n",
    "        cur_pos += d\n",
    "        cur_state = s\n",
    "    return Counter(tape.values())[1]\n",
    "        "
   ]
  },
  {
   "cell_type": "code",
   "execution_count": 12,
   "metadata": {},
   "outputs": [
    {
     "data": {
      "text/plain": [
       "3"
      ]
     },
     "execution_count": 12,
     "metadata": {},
     "output_type": "execute_result"
    }
   ],
   "source": [
    "part1('inputs/day25_test.txt')"
   ]
  },
  {
   "cell_type": "code",
   "execution_count": 13,
   "metadata": {},
   "outputs": [
    {
     "data": {
      "text/plain": [
       "4287"
      ]
     },
     "execution_count": 13,
     "metadata": {},
     "output_type": "execute_result"
    }
   ],
   "source": [
    "part1('inputs/day25.txt')"
   ]
  },
  {
   "cell_type": "code",
   "execution_count": null,
   "metadata": {},
   "outputs": [],
   "source": []
  }
 ],
 "metadata": {
  "kernelspec": {
   "display_name": "Test",
   "language": "python",
   "name": "python3"
  },
  "language_info": {
   "codemirror_mode": {
    "name": "ipython",
    "version": 3
   },
   "file_extension": ".py",
   "mimetype": "text/x-python",
   "name": "python",
   "nbconvert_exporter": "python",
   "pygments_lexer": "ipython3",
   "version": "3.12.2"
  }
 },
 "nbformat": 4,
 "nbformat_minor": 2
}
