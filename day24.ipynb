{
 "cells": [
  {
   "cell_type": "code",
   "execution_count": 21,
   "metadata": {},
   "outputs": [],
   "source": [
    "from utils import read_lines\n",
    "from  collections import defaultdict\n",
    "from functools import cache\n",
    "\n",
    "def parse_input(input_file):\n",
    "    coms = []\n",
    "    pins = defaultdict(set)\n",
    "    for line in read_lines(input_file):\n",
    "        n1, n2 = line.split('/')\n",
    "        n1, n2 = int(n1), int(n2)\n",
    "        pins[n1].add(len(coms))\n",
    "        pins[n2].add(len(coms))\n",
    "        coms.append((n1, n2))\n",
    "        \n",
    "    return coms, pins\n",
    "\n",
    "\n",
    "def part1(input_file):\n",
    "    coms, pins = parse_input(input_file)\n",
    "    @cache\n",
    "    def dp(tail, mask):\n",
    "        ans = 0\n",
    "        for i in pins[tail]:\n",
    "            if mask & (1 << i) == 0:\n",
    "                new_mask = mask | (1<<i)\n",
    "                a, b = coms[i]\n",
    "                if a == tail:\n",
    "                    new_tail = b\n",
    "                else:\n",
    "                    new_tail = a\n",
    "                score = a + b + dp(new_tail, new_mask)\n",
    "                ans = max(ans, score)\n",
    "\n",
    "        return ans\n",
    "    return dp(0, 0)\n",
    "\n",
    "def part2(input_file):\n",
    "    coms, pins = parse_input(input_file)\n",
    "    @cache\n",
    "    def dp(tail, mask):\n",
    "        ans = (0, 0)\n",
    "        for i in pins[tail]:\n",
    "            if mask & (1 << i) == 0:\n",
    "                new_mask = mask | (1<<i)\n",
    "                a, b = coms[i]\n",
    "                if a == tail:\n",
    "                    new_tail = b\n",
    "                else:\n",
    "                    new_tail = a\n",
    "                ll, ss = dp(new_tail, new_mask)\n",
    "\n",
    "                ans = max(ans, (ll + 1, ss + a + b))\n",
    "        return ans\n",
    "    return dp(0, 0)[1]\n"
   ]
  },
  {
   "cell_type": "code",
   "execution_count": 14,
   "metadata": {},
   "outputs": [
    {
     "data": {
      "text/plain": [
       "31"
      ]
     },
     "execution_count": 14,
     "metadata": {},
     "output_type": "execute_result"
    }
   ],
   "source": [
    "part1('inputs/day24_test.txt')"
   ]
  },
  {
   "cell_type": "code",
   "execution_count": 20,
   "metadata": {},
   "outputs": [
    {
     "data": {
      "text/plain": [
       "1859"
      ]
     },
     "execution_count": 20,
     "metadata": {},
     "output_type": "execute_result"
    }
   ],
   "source": [
    "part1('inputs/day24.txt')"
   ]
  },
  {
   "cell_type": "code",
   "execution_count": 22,
   "metadata": {},
   "outputs": [
    {
     "data": {
      "text/plain": [
       "19"
      ]
     },
     "execution_count": 22,
     "metadata": {},
     "output_type": "execute_result"
    }
   ],
   "source": [
    "part2('inputs/day24_test.txt')"
   ]
  },
  {
   "cell_type": "code",
   "execution_count": 23,
   "metadata": {},
   "outputs": [
    {
     "data": {
      "text/plain": [
       "1799"
      ]
     },
     "execution_count": 23,
     "metadata": {},
     "output_type": "execute_result"
    }
   ],
   "source": [
    "part2('inputs/day24.txt')"
   ]
  },
  {
   "cell_type": "code",
   "execution_count": null,
   "metadata": {},
   "outputs": [],
   "source": []
  }
 ],
 "metadata": {
  "kernelspec": {
   "display_name": "Test",
   "language": "python",
   "name": "python3"
  },
  "language_info": {
   "codemirror_mode": {
    "name": "ipython",
    "version": 3
   },
   "file_extension": ".py",
   "mimetype": "text/x-python",
   "name": "python",
   "nbconvert_exporter": "python",
   "pygments_lexer": "ipython3",
   "version": "3.12.2"
  }
 },
 "nbformat": 4,
 "nbformat_minor": 2
}
