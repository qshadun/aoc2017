{
 "cells": [
  {
   "cell_type": "code",
   "execution_count": 5,
   "metadata": {},
   "outputs": [],
   "source": [
    "from utils import read_lines\n",
    "\n",
    "left_turn = {\n",
    "    (-1, 0): (0, -1),\n",
    "    (1, 0): (0, 1),\n",
    "    (0, -1): (1, 0),\n",
    "    (0, 1): (-1, 0),\n",
    "}\n",
    "\n",
    "right_turn = {\n",
    "    (-1, 0): (0, 1),\n",
    "    (1, 0): (0, -1),\n",
    "    (0, -1): (-1, 0),\n",
    "    (0, 1): (1, 0),\n",
    "}\n",
    "\n",
    "def get_status(matrix, extended_nodes, cur_row, cur_col):\n",
    "    m = len(matrix)\n",
    "    if 0 <= cur_row < m and 0<= cur_col < m:\n",
    "        return matrix[cur_row][cur_col]\n",
    "    else:\n",
    "        return extended_nodes.get((cur_row, cur_col), '.')\n",
    "\n",
    "def set_status(matrix, extended_nodes, cur_row, cur_col, v):\n",
    "    m = len(matrix)\n",
    "    if 0 <= cur_row < m and 0<= cur_col < m:\n",
    "        matrix[cur_row][cur_col] = v\n",
    "    else:\n",
    "        extended_nodes[(cur_row, cur_col)] = v\n",
    "    \n",
    "def part1(input_file):\n",
    "    lines = read_lines(input_file)\n",
    "    m = len(lines)\n",
    "    matrix = [[c for c in line] for line in lines]\n",
    "    cur_row, cur_col = m // 2, m // 2\n",
    "    cur_direction = (-1, 0)\n",
    "    extended_nodes = {}\n",
    "    ans = 0\n",
    "    for _ in range(10000):\n",
    "        cur_status = get_status(matrix, extended_nodes, cur_row, cur_col)\n",
    "        if cur_status == '#':\n",
    "            cur_direction = right_turn[cur_direction]\n",
    "            set_status(matrix, extended_nodes, cur_row, cur_col, '.')\n",
    "        else:\n",
    "            cur_direction = left_turn[cur_direction]\n",
    "            set_status(matrix, extended_nodes, cur_row, cur_col, '#')\n",
    "            ans += 1\n",
    "        cur_row, cur_col = cur_row + cur_direction[0], cur_col + cur_direction[1]\n",
    "    return ans\n",
    "\n",
    "change_state = {\n",
    "    '.': 'W',\n",
    "    'W': '#',\n",
    "    '#': 'F',\n",
    "    'F': '.'\n",
    "}\n",
    "\n",
    "def part2(input_file):\n",
    "    lines = read_lines(input_file)\n",
    "    m = len(lines)\n",
    "    matrix = [[c for c in line] for line in lines]\n",
    "    cur_row, cur_col = m // 2, m // 2\n",
    "    cur_direction = (-1, 0)\n",
    "    extended_nodes = {}\n",
    "    ans = 0\n",
    "    for _ in range(10_000_000):\n",
    "        cur_status = get_status(matrix, extended_nodes, cur_row, cur_col)\n",
    "        if cur_status == '#':\n",
    "            cur_direction = right_turn[cur_direction]\n",
    "            set_status(matrix, extended_nodes, cur_row, cur_col, 'F')\n",
    "        elif cur_status == '.':\n",
    "            cur_direction = left_turn[cur_direction]\n",
    "            set_status(matrix, extended_nodes, cur_row, cur_col, 'W')\n",
    "        elif cur_status == 'W':\n",
    "            set_status(matrix, extended_nodes, cur_row, cur_col, '#')\n",
    "            ans += 1\n",
    "        else:  # 'F'\n",
    "            cur_direction = (-cur_direction[0], -cur_direction[1])\n",
    "            set_status(matrix, extended_nodes, cur_row, cur_col, '.')\n",
    "        cur_row, cur_col = cur_row + cur_direction[0], cur_col + cur_direction[1]\n",
    "    return ans"
   ]
  },
  {
   "cell_type": "code",
   "execution_count": 4,
   "metadata": {},
   "outputs": [
    {
     "data": {
      "text/plain": [
       "5552"
      ]
     },
     "execution_count": 4,
     "metadata": {},
     "output_type": "execute_result"
    }
   ],
   "source": [
    "part1('inputs/day22.txt')"
   ]
  },
  {
   "cell_type": "code",
   "execution_count": 6,
   "metadata": {},
   "outputs": [
    {
     "data": {
      "text/plain": [
       "2511527"
      ]
     },
     "execution_count": 6,
     "metadata": {},
     "output_type": "execute_result"
    }
   ],
   "source": [
    "part2('inputs/day22.txt')"
   ]
  },
  {
   "cell_type": "code",
   "execution_count": null,
   "metadata": {},
   "outputs": [],
   "source": []
  }
 ],
 "metadata": {
  "kernelspec": {
   "display_name": "Test",
   "language": "python",
   "name": "python3"
  },
  "language_info": {
   "codemirror_mode": {
    "name": "ipython",
    "version": 3
   },
   "file_extension": ".py",
   "mimetype": "text/x-python",
   "name": "python",
   "nbconvert_exporter": "python",
   "pygments_lexer": "ipython3",
   "version": "3.12.2"
  }
 },
 "nbformat": 4,
 "nbformat_minor": 2
}
