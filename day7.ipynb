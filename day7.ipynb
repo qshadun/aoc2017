{
 "cells": [
  {
   "cell_type": "code",
   "execution_count": 10,
   "metadata": {},
   "outputs": [],
   "source": [
    "from utils import read_lines\n",
    "from collections import deque\n",
    "\n",
    "def parse_line(line):\n",
    "    \"\"\"fwft (72) -> ktlj, cntj, xhth\"\"\"\n",
    "    \"\"\"vdongnn (34)\"\"\"\n",
    "    parts = line.split(' -> ')\n",
    "    name, value = parts[0].split(' ')\n",
    "    value = int(value[1:-1])\n",
    "    if len(parts) == 2:\n",
    "        children = parts[1].split(', ')\n",
    "    else:\n",
    "        children = []\n",
    "    return name, value, children\n",
    "\n",
    "def parse_input(input_file):\n",
    "    nodes = {}  # name -> value\n",
    "    p2c = {} # parent -> children\n",
    "    c2p = {} # children -> parent\n",
    "    for line in read_lines(input_file):\n",
    "        name, value, children = parse_line(line)\n",
    "        nodes[name] = value\n",
    "        p2c[name] = children\n",
    "        for c in children:\n",
    "            c2p[c] = name\n",
    "    \n",
    "    return nodes, p2c, c2p\n",
    "\n",
    "def part1(input_file):\n",
    "    nodes, p2c, c2p = parse_input(input_file)\n",
    "    for name in nodes:\n",
    "        if name not in c2p:\n",
    "            return name\n",
    "        \n",
    "def part2(input_file):\n",
    "    nodes, p2c, c2p = parse_input(input_file)\n",
    "    sub_weights = {}\n",
    "\n",
    "    indegree = {name: len(c) for name, c in p2c.items()}\n",
    "    q = deque()\n",
    "    for name, c in indegree.items():\n",
    "        if c == 0:\n",
    "            q.append(name)\n",
    "            sub_weights[name] = nodes[name]\n",
    "            \n",
    "    while q:\n",
    "        node = q.popleft()\n",
    "        p = c2p[node]\n",
    "        indegree[p] -= 1\n",
    "        if indegree[p] == 0:\n",
    "            children_sub_weights = [sub_weights[c] for c in p2c[p]]\n",
    "\n",
    "            children_sub_weights.sort()\n",
    "            if children_sub_weights[0] != children_sub_weights[-1]:\n",
    "                if children_sub_weights[0] != children_sub_weights[1]:\n",
    "                    wrong_w = children_sub_weights[0]\n",
    "                    delta = children_sub_weights[-1] - children_sub_weights[0]\n",
    "                else:\n",
    "                    wrong_w = children_sub_weights[-1]\n",
    "                    delta = children_sub_weights[0] - children_sub_weights[-1]\n",
    "                for chd in p2c[p]:\n",
    "                    if sub_weights[chd] == wrong_w:\n",
    "                        return nodes[chd] + delta\n",
    "            else:\n",
    "                sub_weights[p] = nodes[p] + sum(children_sub_weights)\n",
    "                q.append(p)\n",
    "                "
   ]
  },
  {
   "cell_type": "code",
   "execution_count": 6,
   "metadata": {},
   "outputs": [
    {
     "data": {
      "text/plain": [
       "'tknk'"
      ]
     },
     "execution_count": 6,
     "metadata": {},
     "output_type": "execute_result"
    }
   ],
   "source": [
    "part1('inputs/day7_test.txt')"
   ]
  },
  {
   "cell_type": "code",
   "execution_count": 7,
   "metadata": {},
   "outputs": [
    {
     "data": {
      "text/plain": [
       "'ykpsek'"
      ]
     },
     "execution_count": 7,
     "metadata": {},
     "output_type": "execute_result"
    }
   ],
   "source": [
    "part1('inputs/day7.txt')"
   ]
  },
  {
   "cell_type": "code",
   "execution_count": 11,
   "metadata": {},
   "outputs": [
    {
     "data": {
      "text/plain": [
       "60"
      ]
     },
     "execution_count": 11,
     "metadata": {},
     "output_type": "execute_result"
    }
   ],
   "source": [
    "part2('inputs/day7_test.txt')"
   ]
  },
  {
   "cell_type": "code",
   "execution_count": 12,
   "metadata": {},
   "outputs": [
    {
     "data": {
      "text/plain": [
       "1060"
      ]
     },
     "execution_count": 12,
     "metadata": {},
     "output_type": "execute_result"
    }
   ],
   "source": [
    "part2('inputs/day7.txt')"
   ]
  },
  {
   "cell_type": "code",
   "execution_count": null,
   "metadata": {},
   "outputs": [],
   "source": []
  }
 ],
 "metadata": {
  "kernelspec": {
   "display_name": "Test",
   "language": "python",
   "name": "python3"
  },
  "language_info": {
   "codemirror_mode": {
    "name": "ipython",
    "version": 3
   },
   "file_extension": ".py",
   "mimetype": "text/x-python",
   "name": "python",
   "nbconvert_exporter": "python",
   "pygments_lexer": "ipython3",
   "version": "3.12.2"
  }
 },
 "nbformat": 4,
 "nbformat_minor": 2
}
