{
 "cells": [
  {
   "cell_type": "code",
   "execution_count": 8,
   "metadata": {},
   "outputs": [],
   "source": [
    "from utils import read_lines\n",
    "\n",
    "def check(line):\n",
    "    words = set()\n",
    "    for w in line.split(' '):\n",
    "        if w in words: \n",
    "            return False\n",
    "        words.add(w)\n",
    "    return True\n",
    "\n",
    "def part1(input_file):\n",
    "    ans = 0\n",
    "    for line in read_lines(input_file):\n",
    "        if check(line):\n",
    "            ans += 1\n",
    "    return ans\n",
    "\n",
    "def word2ana(word):\n",
    "    counter = [0] * 26\n",
    "    for c in word:\n",
    "        counter[ord(c) - ord('a')] += 1\n",
    "    letters = []\n",
    "    for i, cnt in enumerate(counter):\n",
    "        if cnt:\n",
    "            letters.append(f'{chr(ord('a') + i)}{cnt}')\n",
    "    return ''.join(letters)\n",
    "\n",
    "def check2(line):\n",
    "    anas = set()\n",
    "    for word in line.split(' '):\n",
    "        ana = word2ana(word)\n",
    "        if ana in anas:\n",
    "            return False\n",
    "        anas.add(ana)\n",
    "    return True\n",
    "\n",
    "def part2(input_file):\n",
    "    ans = 0\n",
    "    for line in read_lines(input_file):\n",
    "        if check2(line):\n",
    "            ans += 1\n",
    "    return ans"
   ]
  },
  {
   "cell_type": "code",
   "execution_count": 2,
   "metadata": {},
   "outputs": [
    {
     "data": {
      "text/plain": [
       "466"
      ]
     },
     "execution_count": 2,
     "metadata": {},
     "output_type": "execute_result"
    }
   ],
   "source": [
    "part1('inputs/day4.txt')"
   ]
  },
  {
   "cell_type": "code",
   "execution_count": 9,
   "metadata": {},
   "outputs": [
    {
     "data": {
      "text/plain": [
       "251"
      ]
     },
     "execution_count": 9,
     "metadata": {},
     "output_type": "execute_result"
    }
   ],
   "source": [
    "part2('inputs/day4.txt')"
   ]
  },
  {
   "cell_type": "code",
   "execution_count": null,
   "metadata": {},
   "outputs": [],
   "source": []
  }
 ],
 "metadata": {
  "kernelspec": {
   "display_name": "Test",
   "language": "python",
   "name": "python3"
  },
  "language_info": {
   "codemirror_mode": {
    "name": "ipython",
    "version": 3
   },
   "file_extension": ".py",
   "mimetype": "text/x-python",
   "name": "python",
   "nbconvert_exporter": "python",
   "pygments_lexer": "ipython3",
   "version": "3.12.2"
  }
 },
 "nbformat": 4,
 "nbformat_minor": 2
}
