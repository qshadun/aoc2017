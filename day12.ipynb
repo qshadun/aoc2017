{
 "cells": [
  {
   "cell_type": "code",
   "execution_count": 12,
   "metadata": {},
   "outputs": [],
   "source": [
    "from utils import read_lines\n",
    "from collections import deque\n",
    "\n",
    "def parse_line(line):\n",
    "    \"\"\"2 <-> 0, 3, 4\"\"\"\n",
    "    a, bs = line.split(' <-> ')\n",
    "    return int(a), [int(b) for b in bs.split(', ')]\n",
    "\n",
    "def parse_input(input_file):\n",
    "    lines = read_lines(input_file)\n",
    "    return dict([parse_line(line) for line in lines])\n",
    "\n",
    "def part1(input_file):\n",
    "    graph = parse_input(input_file)\n",
    "    q = deque([0])\n",
    "    visited = set([0])\n",
    "    while q:\n",
    "        x = q.popleft()\n",
    "        for nx in graph[x]:\n",
    "            if nx not in visited:\n",
    "                visited.add(nx)\n",
    "                q.append(nx)\n",
    "    return len(visited)\n",
    "\n",
    "def part2(input_file):\n",
    "    graph = parse_input(input_file)\n",
    "    n = max(graph) + 1\n",
    "    assigned_group = [0] * n\n",
    "    cur_group = 1\n",
    "    for i in range(n):\n",
    "        if not assigned_group[i]:\n",
    "            assigned_group[i] = cur_group\n",
    "            q = deque([i])\n",
    "            while q:\n",
    "                x = q.popleft()\n",
    "                for nx in graph[x]:\n",
    "                    if not assigned_group[nx]:\n",
    "                        assigned_group[nx] = cur_group\n",
    "                        q.append(nx)\n",
    "            cur_group += 1\n",
    "    return cur_group - 1"
   ]
  },
  {
   "cell_type": "code",
   "execution_count": 8,
   "metadata": {},
   "outputs": [
    {
     "data": {
      "text/plain": [
       "6"
      ]
     },
     "execution_count": 8,
     "metadata": {},
     "output_type": "execute_result"
    }
   ],
   "source": [
    "part1('inputs/day12_test.txt')"
   ]
  },
  {
   "cell_type": "code",
   "execution_count": 9,
   "metadata": {},
   "outputs": [
    {
     "data": {
      "text/plain": [
       "288"
      ]
     },
     "execution_count": 9,
     "metadata": {},
     "output_type": "execute_result"
    }
   ],
   "source": [
    "part1('inputs/day12.txt')"
   ]
  },
  {
   "cell_type": "code",
   "execution_count": 13,
   "metadata": {},
   "outputs": [
    {
     "data": {
      "text/plain": [
       "2"
      ]
     },
     "execution_count": 13,
     "metadata": {},
     "output_type": "execute_result"
    }
   ],
   "source": [
    "part2('inputs/day12_test.txt')"
   ]
  },
  {
   "cell_type": "code",
   "execution_count": 14,
   "metadata": {},
   "outputs": [
    {
     "data": {
      "text/plain": [
       "211"
      ]
     },
     "execution_count": 14,
     "metadata": {},
     "output_type": "execute_result"
    }
   ],
   "source": [
    "part2('inputs/day12.txt')"
   ]
  },
  {
   "cell_type": "code",
   "execution_count": null,
   "metadata": {},
   "outputs": [],
   "source": []
  }
 ],
 "metadata": {
  "kernelspec": {
   "display_name": "Test",
   "language": "python",
   "name": "python3"
  },
  "language_info": {
   "codemirror_mode": {
    "name": "ipython",
    "version": 3
   },
   "file_extension": ".py",
   "mimetype": "text/x-python",
   "name": "python",
   "nbconvert_exporter": "python",
   "pygments_lexer": "ipython3",
   "version": "3.12.2"
  }
 },
 "nbformat": 4,
 "nbformat_minor": 2
}
