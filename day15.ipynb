{
 "cells": [
  {
   "cell_type": "code",
   "execution_count": 6,
   "metadata": {},
   "outputs": [],
   "source": [
    "#Generator A starts with 679\n",
    "#Generator B starts with 771\n",
    "\n",
    "input_a = 679\n",
    "input_b = 771\n",
    "A = 16807\n",
    "B = 48271\n",
    "MOD = 2147483647\n",
    "\n",
    "mask = 2**16 - 1\n",
    "\n",
    "def match(a, b):\n",
    "    return a & mask == b & mask\n",
    "\n",
    "def part1(pre_a, pre_b):\n",
    "    ans = 0\n",
    "    for _ in range(40_000_000):\n",
    "        pre_a = (pre_a * A) % MOD\n",
    "        pre_b = (pre_b * B) % MOD\n",
    "        if match(pre_a, pre_b):\n",
    "            ans += 1\n",
    "    return ans\n",
    "\n",
    "def part2(pre_a, pre_b):\n",
    "    ans = 0\n",
    "    for _ in range(5_000_000):\n",
    "        pre_a = (pre_a * A) % MOD\n",
    "        while pre_a % 4:\n",
    "            pre_a = (pre_a * A) % MOD\n",
    "        pre_b = (pre_b * B) % MOD\n",
    "        while pre_b % 8:\n",
    "            pre_b = (pre_b * B) % MOD\n",
    "        if match(pre_a, pre_b):\n",
    "            ans += 1\n",
    "    return ans"
   ]
  },
  {
   "cell_type": "code",
   "execution_count": 2,
   "metadata": {},
   "outputs": [
    {
     "data": {
      "text/plain": [
       "588"
      ]
     },
     "execution_count": 2,
     "metadata": {},
     "output_type": "execute_result"
    }
   ],
   "source": [
    "part1(65, 8921)"
   ]
  },
  {
   "cell_type": "code",
   "execution_count": 5,
   "metadata": {},
   "outputs": [
    {
     "data": {
      "text/plain": [
       "626"
      ]
     },
     "execution_count": 5,
     "metadata": {},
     "output_type": "execute_result"
    }
   ],
   "source": [
    "part1(input_a, input_b)"
   ]
  },
  {
   "cell_type": "code",
   "execution_count": 7,
   "metadata": {},
   "outputs": [
    {
     "data": {
      "text/plain": [
       "309"
      ]
     },
     "execution_count": 7,
     "metadata": {},
     "output_type": "execute_result"
    }
   ],
   "source": [
    "part2(65, 8921)"
   ]
  },
  {
   "cell_type": "code",
   "execution_count": 8,
   "metadata": {},
   "outputs": [
    {
     "data": {
      "text/plain": [
       "306"
      ]
     },
     "execution_count": 8,
     "metadata": {},
     "output_type": "execute_result"
    }
   ],
   "source": [
    "part2(input_a, input_b)"
   ]
  },
  {
   "cell_type": "code",
   "execution_count": null,
   "metadata": {},
   "outputs": [],
   "source": []
  }
 ],
 "metadata": {
  "kernelspec": {
   "display_name": "Test",
   "language": "python",
   "name": "python3"
  },
  "language_info": {
   "codemirror_mode": {
    "name": "ipython",
    "version": 3
   },
   "file_extension": ".py",
   "mimetype": "text/x-python",
   "name": "python",
   "nbconvert_exporter": "python",
   "pygments_lexer": "ipython3",
   "version": "3.12.2"
  }
 },
 "nbformat": 4,
 "nbformat_minor": 2
}
