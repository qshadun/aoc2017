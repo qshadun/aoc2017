{
 "cells": [
  {
   "cell_type": "code",
   "execution_count": 19,
   "metadata": {},
   "outputs": [],
   "source": [
    "from utils import read_lines\n",
    "import re\n",
    "\n",
    "def parse_input(input_file):\n",
    "    ans = []\n",
    "    for line in read_lines(input_file):\n",
    "        parts = re.split(r'\\s', line)\n",
    "        row = [int(x.strip()) for x in parts if x.strip()]\n",
    "        ans.append(row)\n",
    "    return ans\n",
    "\n",
    "def part1(input_file):\n",
    "    matrix = parse_input(input_file)\n",
    "    ans = 0\n",
    "    for row in matrix:\n",
    "        ans += max(row) - min(row)\n",
    "    return ans\n",
    "\n",
    "def find_even_divisable(row):\n",
    "    n = len(row)\n",
    "    for i in range(n-1):\n",
    "        for j in range(i+1, n):\n",
    "            a, b = row[i], row[j]\n",
    "            if a < b:\n",
    "                a, b = b, a\n",
    "            if a % b == 0:\n",
    "                return a // b\n",
    "\n",
    "def part2(input_file):\n",
    "    matrix = parse_input(input_file)\n",
    "    ans = 0\n",
    "    for row in matrix:\n",
    "        ans += find_even_divisable(row)\n",
    "    return ans"
   ]
  },
  {
   "cell_type": "code",
   "execution_count": 18,
   "metadata": {},
   "outputs": [
    {
     "data": {
      "text/plain": [
       "41919"
      ]
     },
     "execution_count": 18,
     "metadata": {},
     "output_type": "execute_result"
    }
   ],
   "source": [
    "part1('inputs/day2.txt')"
   ]
  },
  {
   "cell_type": "code",
   "execution_count": 20,
   "metadata": {},
   "outputs": [
    {
     "data": {
      "text/plain": [
       "303"
      ]
     },
     "execution_count": 20,
     "metadata": {},
     "output_type": "execute_result"
    }
   ],
   "source": [
    "part2('inputs/day2.txt')"
   ]
  },
  {
   "cell_type": "code",
   "execution_count": null,
   "metadata": {},
   "outputs": [],
   "source": []
  }
 ],
 "metadata": {
  "kernelspec": {
   "display_name": "Test",
   "language": "python",
   "name": "python3"
  },
  "language_info": {
   "codemirror_mode": {
    "name": "ipython",
    "version": 3
   },
   "file_extension": ".py",
   "mimetype": "text/x-python",
   "name": "python",
   "nbconvert_exporter": "python",
   "pygments_lexer": "ipython3",
   "version": "3.12.2"
  }
 },
 "nbformat": 4,
 "nbformat_minor": 2
}
