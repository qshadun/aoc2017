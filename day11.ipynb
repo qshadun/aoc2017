{
 "cells": [
  {
   "cell_type": "code",
   "execution_count": 7,
   "metadata": {},
   "outputs": [],
   "source": [
    "\n",
    "from utils import read_lines\n",
    "\n",
    "# https://www.redblobgames.com/grids/hexagons/#coordinates-doubled\n",
    "deltas = {\n",
    "    'n': (0, -2),\n",
    "    'ne': (1, -1),\n",
    "    'se': (1, 1),\n",
    "    's': (0, 2),\n",
    "    'sw': (-1, 1),\n",
    "    'nw': (-1, -1)\n",
    "}\n",
    "\n",
    "# https://www.redblobgames.com/grids/hexagons/#distances-doubled\n",
    "def dist(x1, y1, x2, y2):\n",
    "    dy = abs(y1 - y2)\n",
    "    dx = abs(x1 - x2)\n",
    "    return dx + max(0, (dy - dx) // 2)\n",
    "\n",
    "def steps(s):\n",
    "    moves = s.split(',')\n",
    "    start = (0, 0)\n",
    "    cur_x, cur_y = start\n",
    "    for move in moves:\n",
    "        dx, dy = deltas[move]\n",
    "        cur_x += dx\n",
    "        cur_y += dy\n",
    "    return dist(0, 0, cur_x, cur_y)\n",
    "\n",
    "def part1(input_file):\n",
    "    s = read_lines(input_file)[0]\n",
    "    return steps(s)\n",
    "\n",
    "def max_steps(s):\n",
    "    moves = s.split(',')\n",
    "    start = (0, 0)\n",
    "    ans = 0\n",
    "    cur_x, cur_y = start\n",
    "    for move in moves:\n",
    "        dx, dy = deltas[move]\n",
    "        cur_x += dx\n",
    "        cur_y += dy\n",
    "        ans = max(ans, dist(0, 0, cur_x, cur_y))\n",
    "    return ans\n",
    "\n",
    "def part2(input_file):\n",
    "    s = read_lines(input_file)[0]\n",
    "    return max_steps(s)"
   ]
  },
  {
   "cell_type": "code",
   "execution_count": 6,
   "metadata": {},
   "outputs": [
    {
     "data": {
      "text/plain": [
       "670"
      ]
     },
     "execution_count": 6,
     "metadata": {},
     "output_type": "execute_result"
    }
   ],
   "source": [
    "part1('inputs/day11.txt')"
   ]
  },
  {
   "cell_type": "code",
   "execution_count": 8,
   "metadata": {},
   "outputs": [
    {
     "data": {
      "text/plain": [
       "1426"
      ]
     },
     "execution_count": 8,
     "metadata": {},
     "output_type": "execute_result"
    }
   ],
   "source": [
    "part2('inputs/day11.txt')"
   ]
  },
  {
   "cell_type": "code",
   "execution_count": 4,
   "metadata": {},
   "outputs": [],
   "source": [
    "assert steps('ne,ne,ne') == 3\n",
    "assert steps('ne,ne,sw,sw') == 0\n",
    "assert steps('ne,ne,s,s') == 2\n",
    "assert steps('se,sw,se,sw,sw') == 3"
   ]
  },
  {
   "cell_type": "code",
   "execution_count": null,
   "metadata": {},
   "outputs": [],
   "source": []
  }
 ],
 "metadata": {
  "kernelspec": {
   "display_name": "Test",
   "language": "python",
   "name": "python3"
  },
  "language_info": {
   "codemirror_mode": {
    "name": "ipython",
    "version": 3
   },
   "file_extension": ".py",
   "mimetype": "text/x-python",
   "name": "python",
   "nbconvert_exporter": "python",
   "pygments_lexer": "ipython3",
   "version": "3.12.2"
  }
 },
 "nbformat": 4,
 "nbformat_minor": 2
}
