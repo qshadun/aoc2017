{
 "cells": [
  {
   "cell_type": "code",
   "execution_count": 23,
   "metadata": {},
   "outputs": [],
   "source": [
    "import re\n",
    "import numpy as np\n",
    "\n",
    "\n",
    "def part1(input_file):\n",
    "    line = open(input_file).read()\n",
    "    mem = [int(x) for x in re.split(r'\\s', line)]\n",
    "    n = len(mem)\n",
    "    step = 0\n",
    "    visited = set()\n",
    "    visited.add(tuple(mem))\n",
    "\n",
    "    while True:\n",
    "        step += 1\n",
    "        max_idx = np.argmax(mem)\n",
    "        quot = mem[max_idx] // n\n",
    "        remainder = mem[max_idx] % n\n",
    "        mem[max_idx] = 0\n",
    "        for i in range(remainder):\n",
    "            mem[(max_idx + i + 1) % n] += quot + 1\n",
    "        for i in range(remainder, n):\n",
    "            mem[(max_idx + i + 1) % n] += quot\n",
    "        k = tuple(mem)\n",
    "        if k in visited:\n",
    "            return step\n",
    "        else:\n",
    "            visited.add(k)\n",
    "\n",
    "def part2(input_file):\n",
    "    line = open(input_file).read()\n",
    "    mem = [int(x) for x in re.split(r'\\s', line)]\n",
    "    n = len(mem)\n",
    "    step = 0\n",
    "    visited = set()\n",
    "    visited.add(tuple(mem))\n",
    "    first_repeat = None\n",
    "    first_step = 0\n",
    "    while True:\n",
    "        step += 1\n",
    "        max_idx = np.argmax(mem)\n",
    "        quot = mem[max_idx] // n\n",
    "        remainder = mem[max_idx] % n\n",
    "        mem[max_idx] = 0\n",
    "        for i in range(remainder):\n",
    "            mem[(max_idx + i + 1) % n] += quot + 1\n",
    "        for i in range(remainder, n):\n",
    "            mem[(max_idx + i + 1) % n] += quot\n",
    "        k = tuple(mem)\n",
    "        if first_repeat:\n",
    "            if k == first_repeat:\n",
    "                return step - first_step\n",
    "        else:\n",
    "            if k in visited:\n",
    "                first_repeat = k\n",
    "                first_step = step\n",
    "            else:\n",
    "                visited.add(k)\n"
   ]
  },
  {
   "cell_type": "code",
   "execution_count": 21,
   "metadata": {},
   "outputs": [
    {
     "data": {
      "text/plain": [
       "5"
      ]
     },
     "execution_count": 21,
     "metadata": {},
     "output_type": "execute_result"
    }
   ],
   "source": [
    "part1('inputs/day6_test.txt')"
   ]
  },
  {
   "cell_type": "code",
   "execution_count": 22,
   "metadata": {},
   "outputs": [
    {
     "data": {
      "text/plain": [
       "7864"
      ]
     },
     "execution_count": 22,
     "metadata": {},
     "output_type": "execute_result"
    }
   ],
   "source": [
    "part1('inputs/day6.txt')"
   ]
  },
  {
   "cell_type": "code",
   "execution_count": 24,
   "metadata": {},
   "outputs": [
    {
     "data": {
      "text/plain": [
       "4"
      ]
     },
     "execution_count": 24,
     "metadata": {},
     "output_type": "execute_result"
    }
   ],
   "source": [
    "part2('inputs/day6_test.txt')"
   ]
  },
  {
   "cell_type": "code",
   "execution_count": 25,
   "metadata": {},
   "outputs": [
    {
     "data": {
      "text/plain": [
       "1695"
      ]
     },
     "execution_count": 25,
     "metadata": {},
     "output_type": "execute_result"
    }
   ],
   "source": [
    "part2('inputs/day6.txt')"
   ]
  },
  {
   "cell_type": "code",
   "execution_count": null,
   "metadata": {},
   "outputs": [],
   "source": []
  }
 ],
 "metadata": {
  "kernelspec": {
   "display_name": "Test",
   "language": "python",
   "name": "python3"
  },
  "language_info": {
   "codemirror_mode": {
    "name": "ipython",
    "version": 3
   },
   "file_extension": ".py",
   "mimetype": "text/x-python",
   "name": "python",
   "nbconvert_exporter": "python",
   "pygments_lexer": "ipython3",
   "version": "3.12.2"
  }
 },
 "nbformat": 4,
 "nbformat_minor": 2
}
