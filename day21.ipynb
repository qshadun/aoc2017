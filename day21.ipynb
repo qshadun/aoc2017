{
 "cells": [
  {
   "cell_type": "code",
   "execution_count": 25,
   "metadata": {},
   "outputs": [],
   "source": [
    "from utils import read_lines\n",
    "from collections import defaultdict\n",
    "import numpy as np\n",
    "\n",
    "# there are total 8 oritations: \n",
    "# non_flip, rotate 0, 90, 180, 270\n",
    "# flip: rotate 0, 90, 180,270\n",
    "def parse_input(input_file):\n",
    "    rules = {}\n",
    "    lines = read_lines(input_file)\n",
    "    for line in lines:\n",
    "        a, b = line.split(' => ')\n",
    "        rules[a] = b\n",
    "    return rules\n",
    "\n",
    "def flip_left_right(matrix):\n",
    "    ans = []\n",
    "    for row in matrix:\n",
    "        ans.append(row[::-1])\n",
    "    return ans\n",
    "\n",
    "def flip_top_down(matrix):\n",
    "    n = len(matrix)\n",
    "    ans = [[None] * n for _ in range(n)]\n",
    "    for i in range(n):\n",
    "        for j in range(n):\n",
    "            ans[i][j] = matrix[n-i-1][j]\n",
    "    return ans\n",
    "\n",
    "def rotate_clockwise_90(matrix):\n",
    "    n = len(matrix)\n",
    "    ans = [[None] * n for _ in range(n)]\n",
    "    for i in range(n):\n",
    "        for j in range(n):\n",
    "            ans[i][j] = matrix[n-1-j][i]\n",
    "    return ans\n",
    "\n",
    "def print_matrix(matrix):\n",
    "    for row in matrix:\n",
    "        print(''.join(row))\n",
    "\n",
    "def rule_to_matrix(rule):\n",
    "    parts = rule.split('/')\n",
    "    ans = []\n",
    "    for row in parts:\n",
    "        ans.append([c for c in row])\n",
    "    return ans\n",
    "\n",
    "def matrix_to_rule(matrix):\n",
    "    return '/'.join(''.join(row) for row in matrix)\n",
    "\n",
    "def all_oritentions(matrix):\n",
    "    ans = [matrix.copy()]\n",
    "    for _ in range(3):\n",
    "        ans.append(rotate_clockwise_90(ans[-1]))\n",
    "        \n",
    "    ans.append(flip_top_down(matrix))\n",
    "    for _ in range(3):\n",
    "        ans.append(rotate_clockwise_90(ans[-1]))\n",
    "    \n",
    "    return ans\n",
    "\n",
    "def split_matrix(matrix):\n",
    "    ans = []\n",
    "    n = len(matrix)\n",
    "    if n % 2 == 0:\n",
    "        step = 2\n",
    "    else:\n",
    "        step = 3\n",
    "    for i in range(0, n, step):\n",
    "        for j in range(0, n, step):\n",
    "            sub = [['.'] * step for _ in range(step)]\n",
    "            for i1 in range(step):\n",
    "                for j1 in range(step):\n",
    "                    sub[i1][j1] = matrix[i+i1][j+j1]\n",
    "            ans.append(sub)\n",
    "    return ans\n",
    "\n",
    "def combine_matrix(subs):\n",
    "    ans = []\n",
    "    rt = int(np.sqrt(len(subs)))\n",
    "    n = len(subs)\n",
    "    m = len(subs[0])\n",
    "    for i in range(0, n, rt):\n",
    "        for j in range(m):\n",
    "            row = []\n",
    "            for k in range(rt):\n",
    "                row += subs[i+k][j]\n",
    "            ans.append(row)\n",
    "    return ans\n",
    "    \n",
    "\n",
    "start = \"\"\".#.\n",
    "..#\n",
    "###\"\"\"\n",
    "start = [[c for c in line] for line in start.split('\\n')]\n",
    "\n",
    "def enhance(matrix, rules, iterations):\n",
    "    for _ in range(iterations):\n",
    "        subs = split_matrix(matrix)\n",
    "        enhanced = []\n",
    "        for sub in subs:\n",
    "            for ori in all_oritentions(sub):\n",
    "                r = matrix_to_rule(ori)\n",
    "                if r in rules:\n",
    "                    enhanced.append(rule_to_matrix(rules[r]))\n",
    "                    break\n",
    "        matrix = combine_matrix(enhanced)\n",
    "    return matrix\n",
    "\n",
    "def count_pixels(matrix):\n",
    "    ans = 0\n",
    "    for i in range(len(matrix)):\n",
    "        for j in range(len(matrix[0])):\n",
    "            if matrix[i][j] == '#':\n",
    "                ans += 1\n",
    "    return ans\n",
    "\n",
    "def part1(input_file, iterations=5):\n",
    "    rules = parse_input(input_file)\n",
    "    matrix = enhance(start, rules, iterations)\n",
    "    return count_pixels(matrix)\n"
   ]
  },
  {
   "cell_type": "code",
   "execution_count": 26,
   "metadata": {},
   "outputs": [
    {
     "data": {
      "text/plain": [
       "12"
      ]
     },
     "execution_count": 26,
     "metadata": {},
     "output_type": "execute_result"
    }
   ],
   "source": [
    "part1('inputs/day21_test.txt', 2)"
   ]
  },
  {
   "cell_type": "code",
   "execution_count": 27,
   "metadata": {},
   "outputs": [
    {
     "data": {
      "text/plain": [
       "147"
      ]
     },
     "execution_count": 27,
     "metadata": {},
     "output_type": "execute_result"
    }
   ],
   "source": [
    "part1('inputs/day21.txt', 5)"
   ]
  },
  {
   "cell_type": "code",
   "execution_count": 28,
   "metadata": {},
   "outputs": [
    {
     "data": {
      "text/plain": [
       "1936582"
      ]
     },
     "execution_count": 28,
     "metadata": {},
     "output_type": "execute_result"
    }
   ],
   "source": [
    "part1('inputs/day21.txt', 18)"
   ]
  }
 ],
 "metadata": {
  "kernelspec": {
   "display_name": "Test",
   "language": "python",
   "name": "python3"
  },
  "language_info": {
   "codemirror_mode": {
    "name": "ipython",
    "version": 3
   },
   "file_extension": ".py",
   "mimetype": "text/x-python",
   "name": "python",
   "nbconvert_exporter": "python",
   "pygments_lexer": "ipython3",
   "version": "3.12.2"
  }
 },
 "nbformat": 4,
 "nbformat_minor": 2
}
