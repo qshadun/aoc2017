{
 "cells": [
  {
   "cell_type": "code",
   "execution_count": 8,
   "metadata": {},
   "outputs": [],
   "source": [
    "from utils import read_lines\n",
    "from collections import defaultdict\n",
    "\n",
    "def parse_input(input_file):\n",
    "    \n",
    "    ans = []\n",
    "    for line in read_lines(input_file):\n",
    "        \"\"\"q dec -986 if ino >= -247\"\"\"\n",
    "        reg, instruction, value, _, comp_reg, comp, comp_value = line.split(' ')\n",
    "        ans.append([reg, instruction, int(value), comp_reg, comp, int(comp_value)])\n",
    "    return ans\n",
    "\n",
    "def execute(cmd, regs):\n",
    "    reg, instruction, value, comp_reg, comp, comp_value = cmd\n",
    "    \n",
    "    comp_reg_value = regs[comp_reg]\n",
    "    match comp:\n",
    "        case '>':\n",
    "            flag = comp_reg_value > comp_value\n",
    "        case '<':\n",
    "            flag = comp_reg_value < comp_value\n",
    "        case '<=':\n",
    "            flag = comp_reg_value <= comp_value\n",
    "        case '>=':\n",
    "            flag = comp_reg_value >= comp_value\n",
    "        case '==':\n",
    "            flag = comp_reg_value == comp_value\n",
    "        case '!=':\n",
    "            flag = comp_reg_value != comp_value\n",
    "        case _:\n",
    "            raise ValueError(f'illegal comp in command {cmd}')\n",
    "    \n",
    "    if flag:\n",
    "        match instruction:\n",
    "            case 'inc':\n",
    "                regs[reg] += value\n",
    "            case 'dec':\n",
    "                regs[reg] -= value\n",
    "            case _:\n",
    "                raise ValueError(f'illegal instruction in command {cmd}')\n",
    "        return regs[reg]\n",
    "    else:\n",
    "        return float('-inf')\n",
    "\n",
    "\n",
    "\n",
    "def part1(input_file):\n",
    "    commands = parse_input(input_file)\n",
    "    regs = defaultdict(int)\n",
    "    for cmd in commands:\n",
    "        execute(cmd, regs)\n",
    "    return max(regs.values())\n",
    "\n",
    "def part2(input_file):\n",
    "    commands = parse_input(input_file)\n",
    "    regs = defaultdict(int)\n",
    "    ans = 0\n",
    "    for cmd in commands:\n",
    "        ans = max(ans, execute(cmd, regs))\n",
    "    return ans\n"
   ]
  },
  {
   "cell_type": "code",
   "execution_count": 4,
   "metadata": {},
   "outputs": [
    {
     "data": {
      "text/plain": [
       "1"
      ]
     },
     "execution_count": 4,
     "metadata": {},
     "output_type": "execute_result"
    }
   ],
   "source": [
    "part1('inputs/day8_test.txt')"
   ]
  },
  {
   "cell_type": "code",
   "execution_count": 5,
   "metadata": {},
   "outputs": [
    {
     "data": {
      "text/plain": [
       "5849"
      ]
     },
     "execution_count": 5,
     "metadata": {},
     "output_type": "execute_result"
    }
   ],
   "source": [
    "part1('inputs/day8.txt')"
   ]
  },
  {
   "cell_type": "code",
   "execution_count": 9,
   "metadata": {},
   "outputs": [
    {
     "data": {
      "text/plain": [
       "10"
      ]
     },
     "execution_count": 9,
     "metadata": {},
     "output_type": "execute_result"
    }
   ],
   "source": [
    "part2('inputs/day8_test.txt')"
   ]
  },
  {
   "cell_type": "code",
   "execution_count": 10,
   "metadata": {},
   "outputs": [
    {
     "data": {
      "text/plain": [
       "6702"
      ]
     },
     "execution_count": 10,
     "metadata": {},
     "output_type": "execute_result"
    }
   ],
   "source": [
    "part2('inputs/day8.txt')"
   ]
  },
  {
   "cell_type": "code",
   "execution_count": null,
   "metadata": {},
   "outputs": [],
   "source": []
  }
 ],
 "metadata": {
  "kernelspec": {
   "display_name": "Test",
   "language": "python",
   "name": "python3"
  },
  "language_info": {
   "codemirror_mode": {
    "name": "ipython",
    "version": 3
   },
   "file_extension": ".py",
   "mimetype": "text/x-python",
   "name": "python",
   "nbconvert_exporter": "python",
   "pygments_lexer": "ipython3",
   "version": "3.12.2"
  }
 },
 "nbformat": 4,
 "nbformat_minor": 2
}
